{
 "cells": [
  {
   "cell_type": "code",
   "execution_count": 88,
   "id": "275aeb71",
   "metadata": {},
   "outputs": [],
   "source": [
    "from scipy.io.wavfile import read , write\n",
    "import os\n",
    "import scipy.io"
   ]
  },
  {
   "cell_type": "code",
   "execution_count": 108,
   "id": "1be082a5",
   "metadata": {
    "scrolled": false
   },
   "outputs": [],
   "source": [
    "import io\n",
    "import wave"
   ]
  },
  {
   "cell_type": "code",
   "execution_count": 143,
   "id": "e6b44396",
   "metadata": {},
   "outputs": [
    {
     "name": "stdout",
     "output_type": "stream",
     "text": [
      "array([0, 0, 0, ..., 0, 8, 0], dtype=uint8)\n",
      "Google Speech Recognition thinks you said testing testing 123\n"
     ]
    }
   ],
   "source": [
    "import speech_recognition as sr\n",
    "import numpy as np\n",
    "\n",
    "audio_file = \"audio/example.wav\"\n",
    "r = sr.Recognizer()\n",
    "with sr.AudioFile(audio_file) as source:\n",
    "    audio = r.record(source)\n",
    "#audio.get_wav_data()\n",
    "raw_data = audio.get_raw_data()\n",
    "\n",
    "try:\n",
    "    print(\"Google Speech Recognition thinks you said \" + r.recognize_google(audio))\n",
    "except sr.UnknownValueError:\n",
    "    print(\"Google Speech Recognition could not understand audio\")\n",
    "except sr.RequestError as e:\n",
    "    print(\"Could not request results from Google Speech Recognition service; {0}\".format(e))"
   ]
  },
  {
   "cell_type": "code",
   "execution_count": 135,
   "id": "d0ff2ea8",
   "metadata": {},
   "outputs": [
    {
     "name": "stdout",
     "output_type": "stream",
     "text": [
      "array([  0,   0, 255, ..., 255,   1,   0], dtype=uint8)\n"
     ]
    }
   ],
   "source": [
    "samplerate , data = read(audio_file)\n",
    "length = data.shape[0] / samplerate\n",
    "a = bytearray(data)\n",
    "b = np.array(a)\n",
    "pprint(b)"
   ]
  },
  {
   "cell_type": "code",
   "execution_count": 136,
   "id": "315a4561",
   "metadata": {},
   "outputs": [
    {
     "data": {
      "image/png": "[encoded data removed]",
      "text/plain": [
       "<Figure size 432x288 with 1 Axes>"
      ]
     },
     "metadata": {
      "needs_background": "light"
     },
     "output_type": "display_data"
    }
   ],
   "source": [
    "import matplotlib.pyplot as plt\n",
    "import numpy as np\n",
    "\n",
    "time = np.linspace(0,length,data.shape[0])\n",
    "plt.plot(time,data[:],label=\"Channel\")\n",
    "plt.legend()\n",
    "plt.xlabel(\"Time [s]\")\n",
    "plt.ylabel(\"Amplitude\")\n",
    "plt.show()"
   ]
  },
  {
   "cell_type": "code",
   "execution_count": 20,
   "id": "45070b2f",
   "metadata": {},
   "outputs": [],
   "source": []
  }
 ],
 "metadata": {
  "kernelspec": {
   "display_name": "Python 3",
   "language": "python",
   "name": "python3"
  },
  "language_info": {
   "codemirror_mode": {
    "name": "ipython",
    "version": 3
   },
   "file_extension": ".py",
   "mimetype": "text/x-python",
   "name": "python",
   "nbconvert_exporter": "python",
   "pygments_lexer": "ipython3",
   "version": "3.6.9"
  }
 },
 "nbformat": 4,
 "nbformat_minor": 5
}
